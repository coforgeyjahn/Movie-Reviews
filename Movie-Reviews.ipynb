{
 "cells": [
  {
   "cell_type": "code",
   "execution_count": 1,
   "id": "af5e34fd",
   "metadata": {},
   "outputs": [
    {
     "name": "stderr",
     "output_type": "stream",
     "text": [
      "[nltk_data] Downloading package punkt to\n",
      "[nltk_data]     /Users/coforgeyjahn/nltk_data...\n",
      "[nltk_data]   Package punkt is already up-to-date!\n",
      "[nltk_data] Downloading package stopwords to\n",
      "[nltk_data]     /Users/coforgeyjahn/nltk_data...\n",
      "[nltk_data]   Package stopwords is already up-to-date!\n",
      "[nltk_data] Downloading package wordnet to\n",
      "[nltk_data]     /Users/coforgeyjahn/nltk_data...\n",
      "[nltk_data]   Package wordnet is already up-to-date!\n"
     ]
    }
   ],
   "source": [
    "import pandas as pd\n",
    "import matplotlib.pyplot as plt\n",
    "import numpy as np\n",
    "import nltk\n",
    "from nltk.corpus import stopwords\n",
    "from nltk.tokenize import word_tokenize\n",
    "from nltk.stem import PorterStemmer, WordNetLemmatizer\n",
    "\n",
    "nltk.download('punkt')\n",
    "nltk.download('stopwords')\n",
    "nltk.download('wordnet')\n",
    "\n",
    "reviews = pd.read_csv('movie.csv')"
   ]
  },
  {
   "cell_type": "code",
   "execution_count": 2,
   "id": "8e66d5f3",
   "metadata": {},
   "outputs": [
    {
     "name": "stdout",
     "output_type": "stream",
     "text": [
      "                                                    text  label\n",
      "0      I grew up (b. 1965) watching and loving the Th...      0\n",
      "1      When I put this movie in my DVD player, and sa...      0\n",
      "2      Why do people who do not know what a particula...      0\n",
      "3      Even though I have great interest in Biblical ...      0\n",
      "4      Im a die hard Dads Army fan and nothing will e...      1\n",
      "...                                                  ...    ...\n",
      "39995  \"Western Union\" is something of a forgotten cl...      1\n",
      "39996  This movie is an incredible piece of work. It ...      1\n",
      "39997  My wife and I watched this movie because we pl...      0\n",
      "39998  When I first watched Flatliners, I was amazed....      1\n",
      "39999  Why would this film be so good, but only gross...      1\n",
      "\n",
      "[40000 rows x 2 columns]\n"
     ]
    }
   ],
   "source": [
    "print(reviews)"
   ]
  },
  {
   "cell_type": "markdown",
   "id": "862aca80",
   "metadata": {},
   "source": [
    "# Text Normalization"
   ]
  },
  {
   "cell_type": "code",
   "execution_count": 3,
   "id": "7689a1bb",
   "metadata": {},
   "outputs": [
    {
     "name": "stdout",
     "output_type": "stream",
     "text": [
      "                                                text  label\n",
      "0  grew ( b . 1965 ) watch love thunderbird . mat...      0\n",
      "1  put movi dvd player , sat coke chip , expect ....      0\n",
      "2  peopl know particular time past like feel need...      0\n",
      "3  even though great interest biblic movi , bore ...      0\n",
      "4  im die hard dad armi fan noth ever chang . got...      1\n"
     ]
    }
   ],
   "source": [
    "# Lowercase\n",
    "reviews['text'] = reviews['text'].str.lower()\n",
    "\n",
    "# Remove URLs\n",
    "reviews['text'] = reviews['text'].str.replace(r'http\\S+|www\\S+|https\\S+','')\n",
    "\n",
    "# Remove numbers\n",
    "reviews['text'] = reviews['text'].str.replace(r'\\d', '')\n",
    "\n",
    "stemmer = PorterStemmer()\n",
    "lemmatizer = WordNetLemmatizer()\n",
    "stop_words = set(stopwords.words('english'))\n",
    "\n",
    "def lemmatize_stem_and_remove_stopwords(review):\n",
    "    review_tokens = word_tokenize(review)\n",
    "    \n",
    "    # Remove stopwords and apply stemming and lemmatization\n",
    "    cleaned_tokens = []\n",
    "    for token in review_tokens:\n",
    "        if token not in stop_words:\n",
    "            stemmed = stemmer.stem(token)\n",
    "            lemmatized = lemmatizer.lemmatize(stemmed)\n",
    "            cleaned_tokens.append(lemmatized)\n",
    "    \n",
    "    return ' '.join(cleaned_tokens)\n",
    "\n",
    "\n",
    "reviews['text'] = reviews['text'].apply(lemmatize_stem_and_remove_stopwords)\n",
    "print(reviews.head())"
   ]
  },
  {
   "cell_type": "markdown",
   "id": "27026066",
   "metadata": {},
   "source": [
    "2. Utilise a pre-trained NER model or train your own using an appropriate\n",
    "dataset. Extract named entities from the text. Print or display the\n",
    "identified named entities along with their types (e.g., PERSON,\n",
    "LOCATION, ORGANIZATION)."
   ]
  },
  {
   "cell_type": "code",
   "execution_count": 4,
   "id": "a619df61",
   "metadata": {},
   "outputs": [],
   "source": [
    "import spacy\n",
    "named_entities_model = spacy.load('en_core_web_sm')\n",
    "\n",
    "# Applying NER to each review text and storing results in a new column 'named_entities'\n",
    "spacy_ner = []\n",
    "for index, row in reviews.iterrows():\n",
    "    review = named_entities_model(row['text'])\n",
    "    entities = [(ent.text, ent.label_) for ent in review.ents]\n",
    "    spacy_ner.append(entities)\n",
    "\n",
    "reviews['named_entities'] = spacy_ner"
   ]
  },
  {
   "cell_type": "code",
   "execution_count": 5,
   "id": "9a5e776b",
   "metadata": {},
   "outputs": [
    {
     "name": "stdout",
     "output_type": "stream",
     "text": [
      "0        [(1965, DATE), (virgil scott, PERSON), (one, C...\n",
      "1        [(first, ORDINAL), (funni comedi, ORG), (first...\n",
      "2        [(one, CARDINAL), (dian, NORP), (abus, ORG), (...\n",
      "3        [(everyth bad, PERSON), (movi long, PERSON), (...\n",
      "4        [(armi, ORG), (chang, PERSON), (everi time, PE...\n",
      "                               ...                        \n",
      "39995    [(howev, PERSON), (2 england, LOC), (one, CARD...\n",
      "39996    [(explor everi nook, PERSON), (one, CARDINAL),...\n",
      "39997    [(unfortun, PERSON), (rang stiff complet, PERS...\n",
      "39998    [(first, ORDINAL), (flatlin, PERSON), (necessa...\n",
      "39999    [(95,000,000, MONEY), (john travolta know 's, ...\n",
      "Name: named_entities, Length: 40000, dtype: object\n",
      "Types of named entities:  {'LOC', 'FAC', 'ORG', 'MONEY', 'TIME', 'PERCENT', 'LANGUAGE', 'CARDINAL', 'QUANTITY', 'ORDINAL', 'PERSON', 'EVENT', 'DATE', 'LAW', 'NORP', 'GPE', 'WORK_OF_ART', 'PRODUCT'}\n"
     ]
    }
   ],
   "source": [
    "# Display the DataFrame with the named entities column and all of the types of entities in the dataset\n",
    "print(reviews['named_entities'])\n",
    "\n",
    "ner_types = set()\n",
    "for entities in spacy_ner:\n",
    "    for entity in entities:\n",
    "        ner_types.add(entity[1])\n",
    "\n",
    "print(\"Types of named entities: \", ner_types)"
   ]
  },
  {
   "cell_type": "markdown",
   "id": "54c7b8d3",
   "metadata": {},
   "source": [
    "3. Build a naïve bayes classifier and use BOW and feature selection\n",
    "methods such as selection of the 3000 most important words. You\n",
    "should evaluate your model on 10 percent of the data, please report\n",
    "the precision, recall, accuracy, and F-score of each class."
   ]
  },
  {
   "cell_type": "code",
   "execution_count": 6,
   "id": "25cb0ad3",
   "metadata": {},
   "outputs": [
    {
     "name": "stdout",
     "output_type": "stream",
     "text": [
      "Multinomial Naive Bayes Test Accuracy:  0.84075\n",
      "Multinomial Naive Bayes Test Precision:  0.8466566113624937\n",
      "Multinomial Naive Bayes Test Recall:  0.8353174603174603\n",
      "Multinomial Naive Bayes Test F1:  0.840948813982522\n"
     ]
    }
   ],
   "source": [
    "from sklearn.feature_extraction.text import CountVectorizer\n",
    "from sklearn.naive_bayes import MultinomialNB\n",
    "from sklearn.model_selection import train_test_split as split\n",
    "from sklearn import datasets\n",
    "from sklearn.metrics import accuracy_score\n",
    "from sklearn.metrics import precision_score\n",
    "from sklearn.metrics import recall_score\n",
    "from sklearn.metrics import f1_score\n",
    "\n",
    "vectorizer = CountVectorizer(max_features=5000)\n",
    "X = vectorizer.fit_transform(reviews['text'])\n",
    "y = reviews['label']\n",
    "\n",
    "\n",
    "X_train, X_test, y_train, y_test = split(X, y, test_size=0.1, random_state=42)\n",
    "\n",
    "# Step 4: Train Naïve Bayes classifier\n",
    "multinomial_nb = MultinomialNB().fit(X_train, y_train)\n",
    "multinomial_nb_predictions = multinomial_nb.predict(X_test)\n",
    "\n",
    "# Calculate accuracy, precision, recall, and f1 of Multinomial Naive Bayes model\n",
    "model_multinomial_nb_accuracy = accuracy_score(y_test, multinomial_nb_predictions)\n",
    "model_multinomial_nb_precision = precision_score(y_test, multinomial_nb_predictions)\n",
    "model_multinomial_nb_recall = recall_score(y_test, multinomial_nb_predictions)\n",
    "model_multinomial_nb_f1 = f1_score(y_test, multinomial_nb_predictions)\n",
    "\n",
    "print(\"Multinomial Naive Bayes Test Accuracy: \", model_multinomial_nb_accuracy)\n",
    "print(\"Multinomial Naive Bayes Test Precision: \", model_multinomial_nb_precision)\n",
    "print(\"Multinomial Naive Bayes Test Recall: \", model_multinomial_nb_recall)\n",
    "print(\"Multinomial Naive Bayes Test F1: \", model_multinomial_nb_f1)\n"
   ]
  },
  {
   "cell_type": "markdown",
   "id": "1035f241",
   "metadata": {},
   "source": [
    "4. Preprocess the dataset, tokenize the text, and convert it into a\n",
    "sequence of word embeddings (such as Word2Vec or GloVe). Design a\n",
    "BiLSTM classification model and train the model using the labelled\n",
    "dataset. Evaluate the model's performance on 10 percent of data using\n",
    "appropriate evaluation metrics and discuss any techniques used to\n",
    "handle overfitting."
   ]
  },
  {
   "cell_type": "code",
   "execution_count": 7,
   "id": "9bf2eefd",
   "metadata": {},
   "outputs": [],
   "source": [
    "import matplotlib.pyplot as plt\n",
    "plt.style.use('ggplot')\n",
    "\n",
    "def plot_history(history):\n",
    "    acc = history.history['accuracy']\n",
    "    val_acc = history.history['val_accuracy']\n",
    "    loss = history.history['loss']\n",
    "    val_loss = history.history['val_loss']\n",
    "    x = range(1, len(acc) + 1)\n",
    "\n",
    "    plt.figure(figsize=(12, 5))\n",
    "    plt.subplot(1, 2, 1)\n",
    "    plt.plot(x, acc, 'b', label='Training acc')\n",
    "    plt.plot(x, val_acc, 'r', label='Test acc')\n",
    "    plt.title('Training and test accuracy')\n",
    "    plt.legend()\n",
    "    plt.subplot(1, 2, 2)\n",
    "    plt.plot(x, loss, 'b', label='Training loss')\n",
    "    plt.plot(x, val_loss, 'r', label='test loss')\n",
    "    plt.title('Training and test loss')\n",
    "    plt.legend()"
   ]
  },
  {
   "cell_type": "code",
   "execution_count": 10,
   "id": "3737b4e9",
   "metadata": {},
   "outputs": [
    {
     "name": "stdout",
     "output_type": "stream",
     "text": [
      "Epoch 1/10\n",
      "\u001b[1m1125/1125\u001b[0m \u001b[32m━━━━━━━━━━━━━━━━━━━━\u001b[0m\u001b[37m\u001b[0m \u001b[1m38s\u001b[0m 33ms/step - accuracy: 0.5116 - loss: 0.7115 - val_accuracy: 0.6033 - val_loss: 0.6707\n",
      "Epoch 2/10\n",
      "\u001b[1m1125/1125\u001b[0m \u001b[32m━━━━━━━━━━━━━━━━━━━━\u001b[0m\u001b[37m\u001b[0m \u001b[1m36s\u001b[0m 32ms/step - accuracy: 0.5904 - loss: 0.6688 - val_accuracy: 0.7592 - val_loss: 0.5670\n",
      "Epoch 3/10\n",
      "\u001b[1m1125/1125\u001b[0m \u001b[32m━━━━━━━━━━━━━━━━━━━━\u001b[0m\u001b[37m\u001b[0m \u001b[1m36s\u001b[0m 32ms/step - accuracy: 0.6875 - loss: 0.5832 - val_accuracy: 0.8075 - val_loss: 0.4771\n",
      "Epoch 4/10\n",
      "\u001b[1m1125/1125\u001b[0m \u001b[32m━━━━━━━━━━━━━━━━━━━━\u001b[0m\u001b[37m\u001b[0m \u001b[1m36s\u001b[0m 32ms/step - accuracy: 0.7335 - loss: 0.5252 - val_accuracy: 0.8158 - val_loss: 0.4473\n",
      "Epoch 5/10\n",
      "\u001b[1m1125/1125\u001b[0m \u001b[32m━━━━━━━━━━━━━━━━━━━━\u001b[0m\u001b[37m\u001b[0m \u001b[1m37s\u001b[0m 33ms/step - accuracy: 0.7552 - loss: 0.4964 - val_accuracy: 0.8282 - val_loss: 0.4231\n",
      "Epoch 6/10\n",
      "\u001b[1m1125/1125\u001b[0m \u001b[32m━━━━━━━━━━━━━━━━━━━━\u001b[0m\u001b[37m\u001b[0m \u001b[1m37s\u001b[0m 32ms/step - accuracy: 0.7762 - loss: 0.4752 - val_accuracy: 0.8288 - val_loss: 0.4076\n",
      "Epoch 7/10\n",
      "\u001b[1m1125/1125\u001b[0m \u001b[32m━━━━━━━━━━━━━━━━━━━━\u001b[0m\u001b[37m\u001b[0m \u001b[1m35s\u001b[0m 31ms/step - accuracy: 0.7836 - loss: 0.4567 - val_accuracy: 0.8317 - val_loss: 0.4016\n",
      "Epoch 8/10\n",
      "\u001b[1m1125/1125\u001b[0m \u001b[32m━━━━━━━━━━━━━━━━━━━━\u001b[0m\u001b[37m\u001b[0m \u001b[1m35s\u001b[0m 31ms/step - accuracy: 0.7972 - loss: 0.4337 - val_accuracy: 0.8378 - val_loss: 0.3889\n",
      "Epoch 9/10\n",
      "\u001b[1m1125/1125\u001b[0m \u001b[32m━━━━━━━━━━━━━━━━━━━━\u001b[0m\u001b[37m\u001b[0m \u001b[1m36s\u001b[0m 32ms/step - accuracy: 0.8047 - loss: 0.4183 - val_accuracy: 0.8393 - val_loss: 0.3833\n",
      "Epoch 10/10\n",
      "\u001b[1m1125/1125\u001b[0m \u001b[32m━━━━━━━━━━━━━━━━━━━━\u001b[0m\u001b[37m\u001b[0m \u001b[1m36s\u001b[0m 32ms/step - accuracy: 0.8152 - loss: 0.4107 - val_accuracy: 0.8390 - val_loss: 0.3762\n"
     ]
    }
   ],
   "source": [
    "from tensorflow.keras.preprocessing.text import Tokenizer\n",
    "from tensorflow.keras.preprocessing.sequence import pad_sequences\n",
    "from keras.models import Sequential\n",
    "from keras import layers\n",
    "from keras.layers import Embedding, Bidirectional, LSTM, Dense, Dropout\n",
    "\n",
    "max_len = 100\n",
    "tokenizer = Tokenizer()\n",
    "tokenizer.fit_on_texts(reviews['text'])\n",
    "sequences = tokenizer.texts_to_sequences(reviews['text'])\n",
    "X = pad_sequences(sequences, maxlen=max_len)\n",
    "y = np.array(reviews['label'])\n",
    "\n",
    "X_train, X_test, y_train, y_test = split(X, y, test_size=0.1, random_state=42)\n",
    "\n",
    "embeddings_index = {}\n",
    "with open('glove.6B/glove.6B.100d.txt', encoding='utf-8') as f:\n",
    "    for line in f:\n",
    "        values = line.split()\n",
    "        word = values[0]\n",
    "        coefs = np.asarray(values[1:], dtype='float32')\n",
    "        embeddings_index[word] = coefs\n",
    "\n",
    "# Create an embedding matrix\n",
    "embedding_dim = 100\n",
    "vocab_size = len(tokenizer.word_index) + 1\n",
    "embedding_matrix = np.zeros((vocab_size, embedding_dim))\n",
    "for word, i in tokenizer.word_index.items():\n",
    "    embedding_vector = embeddings_index.get(word)\n",
    "    if embedding_vector is not None:\n",
    "        embedding_matrix[i] = embedding_vector\n",
    "\n",
    "model = Sequential()\n",
    "model.add(layers.Embedding(vocab_size, embedding_dim,\n",
    "                           weights=[embedding_matrix],\n",
    "                           trainable=True))\n",
    "model.add(layers.GlobalMaxPool1D())\n",
    "model.add(Dropout(0.5))\n",
    "model.add(layers.Dense(10, activation='relu'))\n",
    "model.add(layers.Dense(1, activation='sigmoid'))\n",
    "\n",
    "model.compile(optimizer='adam',\n",
    "              loss='binary_crossentropy',\n",
    "              metrics=['accuracy'])\n",
    "\n",
    "history = model.fit(X_train, y_train,\n",
    "                    epochs=10,\n",
    "                    verbose=1,\n",
    "                    validation_data=(X_test, y_test),\n",
    "                    batch_size=32)"
   ]
  },
  {
   "cell_type": "code",
   "execution_count": 22,
   "id": "14a3d051",
   "metadata": {},
   "outputs": [
    {
     "name": "stdout",
     "output_type": "stream",
     "text": [
      "Training Accuracy: 0.8878\n",
      "Testing Accuracy:  0.8390\n"
     ]
    },
    {
     "data": {
      "image/png": "[encoded data removed]",
      "text/plain": [
       "<Figure size 1200x500 with 2 Axes>"
      ]
     },
     "metadata": {},
     "output_type": "display_data"
    }
   ],
   "source": [
    "loss, accuracy = model.evaluate(X_train, y_train, verbose=False)\n",
    "print(\"Training Accuracy: {:.4f}\".format(accuracy))\n",
    "loss, accuracy = model.evaluate(X_test, y_test, verbose=False)\n",
    "print(\"Testing Accuracy:  {:.4f}\".format(accuracy))\n",
    "\n",
    "plot_history(history)"
   ]
  },
  {
   "cell_type": "code",
   "execution_count": 23,
   "id": "c87f7b6f",
   "metadata": {},
   "outputs": [
    {
     "name": "stdout",
     "output_type": "stream",
     "text": [
      "\u001b[1m125/125\u001b[0m \u001b[32m━━━━━━━━━━━━━━━━━━━━\u001b[0m\u001b[37m\u001b[0m \u001b[1m0s\u001b[0m 397us/step\n",
      "Glove Embedding Test Accuracy:  0.839\n",
      "Glove Embedding Test Precision:  0.8346341463414634\n",
      "Glove Embedding Test Recall:  0.8487103174603174\n",
      "Glove Embedding Test F1:  0.8416133792424988\n"
     ]
    }
   ],
   "source": [
    "# Calculate metrics\n",
    "glove_predictions = model.predict(X_test)\n",
    "\n",
    "# Convert probabilities to binary to get metrics\n",
    "glove_predictions = (predictions > 0.5).astype(int)\n",
    "\n",
    "glove_accuracy = accuracy_score(y_test, glove_predictions)\n",
    "glove_precision = precision_score(y_test, glove_predictions)\n",
    "glove_recall = recall_score(y_test, glove_predictions)\n",
    "glove_f1 = f1_score(y_test, glove_predictions)\n",
    "\n",
    "print(\"Glove Embedding Test Accuracy: \", glove_accuracy)\n",
    "print(\"Glove Embedding Test Precision: \", glove_precision)\n",
    "print(\"Glove Embedding Test Recall: \", glove_recall)\n",
    "print(\"Glove Embedding Test F1: \", glove_f1)\n"
   ]
  },
  {
   "cell_type": "markdown",
   "id": "d91fb8a3",
   "metadata": {},
   "source": [
    "5. Compare the results and performance of the two designed classifiers."
   ]
  },
  {
   "cell_type": "markdown",
   "id": "9591f82b",
   "metadata": {},
   "source": [
    "Based on the results in part 3 and part 4, we can see that multinomial naive bayes performs reasonably well using Bag Of Words, and with a maximum features of 5000. This model accurately predicted the movie review sentiment 84. 075% of the time, with 84.67% of the true positive reviews being predicted positive. Multinomial Naive Bayes with Bag of Words also correctly predicted 83.53% of the true positives as positives. The runtime of multinomial naive bayes on a dataset with more than 40,000 reviews was also quite efficient, taking only a few minutes.\n",
    "\n",
    "When executing the model in part 4, which uses the Glove embedding technique, I opted to use a max length of 100, and only 10 epochs while fitting the model. After initially executing this I got an accuracy of 97% on the training set and 80% on the test set. This could potentially indicate overfitting so I added a dropout of 0.5 to prevent this. I also opted to use an embedding matrix with dimension 100, meaning each of the 77931 is represented by a vector of 100 word embeddings, and our complete embedding matrix has size 77931 x 100. This model, using a binary crossentropy loss received an accuracy of 88.78% on the training set and 83.90% on the test set, suggesting that the overfitting has been reduced. This model received precision of 83.46%, slightly worse than the multinomial naive bayes, although it received a recall of 84.87% which is slightly better than multinomial naive bayes.\n",
    "\n",
    "Overall, both models performed similarly with a prediction accuracy of ~84%, suggesting that both models are good choices to use in sentiment analysis of movie reviews."
   ]
  },
  {
   "cell_type": "code",
   "execution_count": null,
   "id": "d5fe1e50",
   "metadata": {},
   "outputs": [],
   "source": []
  }
 ],
 "metadata": {
  "kernelspec": {
   "display_name": "Python 3 (ipykernel)",
   "language": "python",
   "name": "python3"
  },
  "language_info": {
   "codemirror_mode": {
    "name": "ipython",
    "version": 3
   },
   "file_extension": ".py",
   "mimetype": "text/x-python",
   "name": "python",
   "nbconvert_exporter": "python",
   "pygments_lexer": "ipython3",
   "version": "3.11.5"
  }
 },
 "nbformat": 4,
 "nbformat_minor": 5
}
